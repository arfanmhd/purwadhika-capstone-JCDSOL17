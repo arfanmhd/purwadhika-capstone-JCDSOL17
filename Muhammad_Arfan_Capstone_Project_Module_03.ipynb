{
 "cells": [
  {
   "cell_type": "markdown",
   "metadata": {},
   "source": [
    "Capstone Project Module 03\n",
    "Muhammad Arfan"
   ]
  },
  {
   "cell_type": "code",
   "execution_count": 1,
   "metadata": {},
   "outputs": [],
   "source": [
    "import pandas as pd\n",
    "import numpy as np\n",
    "from sklearn.model_selection import train_test_split, GridSearchCV, cross_val_score\n",
    "from sklearn.preprocessing import StandardScaler, LabelEncoder\n",
    "from sklearn.metrics import (accuracy_score, precision_score, recall_score, f1_score, \n",
    "                             classification_report, confusion_matrix, roc_auc_score, roc_curve)\n",
    "import matplotlib.pyplot as plt\n",
    "import seaborn as sns\n",
    "from imblearn.over_sampling import SMOTE\n",
    "import joblib\n",
    "from sklearn.impute import SimpleImputer\n",
    "\n",
    "\n",
    "# Import models\n",
    "from sklearn.ensemble import RandomForestClassifier\n",
    "import xgboost as xgb\n",
    "import lightgbm as lgb"
   ]
  },
  {
   "cell_type": "code",
   "execution_count": 2,
   "metadata": {},
   "outputs": [
    {
     "name": "stdout",
     "output_type": "stream",
     "text": [
      "Shape dataset: (83573, 11)\n",
      "\n",
      "Missing values per column:\n",
      "country                        351\n",
      "market_segment                   0\n",
      "previous_cancellations           0\n",
      "booking_changes                  0\n",
      "deposit_type                     0\n",
      "days_in_waiting_list             0\n",
      "customer_type                    0\n",
      "reserved_room_type               0\n",
      "required_car_parking_spaces      0\n",
      "total_of_special_requests        0\n",
      "is_canceled                      0\n",
      "dtype: int64\n",
      "\n",
      "Distribusi target variable (is_canceled) dalam proporsi:\n",
      "is_canceled\n",
      "0    0.631723\n",
      "1    0.368277\n",
      "Name: proportion, dtype: float64\n",
      "\n",
      "Statistik deskriptif kolom numerik:\n",
      "       previous_cancellations  booking_changes  days_in_waiting_list  \\\n",
      "count            83573.000000     83573.000000          83573.000000   \n",
      "mean                 0.086798         0.220897              2.330561   \n",
      "std                  0.841011         0.648635             17.673051   \n",
      "min                  0.000000         0.000000              0.000000   \n",
      "25%                  0.000000         0.000000              0.000000   \n",
      "50%                  0.000000         0.000000              0.000000   \n",
      "75%                  0.000000         0.000000              0.000000   \n",
      "max                 26.000000        21.000000            391.000000   \n",
      "\n",
      "       required_car_parking_spaces  total_of_special_requests   is_canceled  \n",
      "count                 83573.000000               83573.000000  83573.000000  \n",
      "mean                      0.062999                   0.573211      0.368277  \n",
      "std                       0.246919                   0.795163      0.482340  \n",
      "min                       0.000000                   0.000000      0.000000  \n",
      "25%                       0.000000                   0.000000      0.000000  \n",
      "50%                       0.000000                   0.000000      0.000000  \n",
      "75%                       0.000000                   1.000000      1.000000  \n",
      "max                       8.000000                   5.000000      1.000000  \n"
     ]
    }
   ],
   "source": [
    "# 1. Data Loading, Data Cleaning, dan Feature Engineering\n",
    "df = pd.read_csv('data_hotel_booking_demand.csv')\n",
    "print(\"Shape dataset:\", df.shape)\n",
    "print(\"\\nMissing values per column:\")\n",
    "print(df.isnull().sum())\n",
    "df['country'].fillna('Unknown')\n",
    "print(\"\\nDistribusi target variable (is_canceled) dalam proporsi:\")\n",
    "print(df['is_canceled'].value_counts(normalize=True))\n",
    "print(\"\\nStatistik deskriptif kolom numerik:\")\n",
    "print(df.describe())\n",
    "\n",
    "# Encoding variabel kategorikal\n",
    "le = LabelEncoder()\n",
    "categorical_columns = ['country', 'market_segment', 'deposit_type', 'customer_type', 'reserved_room_type']\n",
    "for col in categorical_columns:\n",
    "    df[col] = le.fit_transform(df[col].astype(str))\n",
    "\n",
    "# Feature Engineering\n",
    "df['lead_time_category'] = pd.cut(df['days_in_waiting_list'], bins=[0, 30, 90, 180, 365, 1000], labels=[1, 2, 3, 4, 5])\n",
    "df['cancellation_ratio'] = df['previous_cancellations'] / (df['previous_cancellations'] + df['booking_changes'] + 1)\n",
    "df['booking_change_flag'] = (df['booking_changes'] > 0).astype(int)\n",
    "df['is_repeat_guest'] = (df['customer_type'] == 1).astype(int)\n",
    "\n",
    "\n",
    "# Fitur yang dipakai adalah seluruh kolom kecuali target\n",
    "X = df.drop('is_canceled', axis=1)\n",
    "y = df['is_canceled']\n",
    "\n",
    "\n",
    "\n"
   ]
  },
  {
   "cell_type": "code",
   "execution_count": null,
   "metadata": {},
   "outputs": [
    {
     "name": "stdout",
     "output_type": "stream",
     "text": [
      "Apakah ada NaN setelah imputasi? 0 0\n",
      "Apakah ada NaN setelah scaling? 0 0\n"
     ]
    }
   ],
   "source": [
    "# 2. Split Data, Scaling dan Oversampling dengan SMOTE\n",
    "\n",
    "X_train, X_test, y_train, y_test = train_test_split(X, y, test_size=0.2, random_state=42)\n",
    "\n",
    "#Impute missing values terlebih dahulu sebelum scaling\n",
    "imputer = SimpleImputer(strategy='median')  # Bisa pakai 'median' jika data memiliki outlier\n",
    "X_train_imputed = imputer.fit_transform(X_train)\n",
    "X_test_imputed = imputer.transform(X_test)\n",
    "\n",
    "#Pastikan tidak ada NaN setelah imputasi\n",
    "print(\"Apakah ada NaN setelah imputasi?\", np.isnan(X_train_imputed).sum(), np.isnan(X_test_imputed).sum())\n",
    "\n",
    "# Gunakan data yang sudah diimputasi untuk scaling\n",
    "scaler = StandardScaler()\n",
    "X_train_scaled = scaler.fit_transform(X_train_imputed)\n",
    "X_test_scaled = scaler.transform(X_test_imputed)\n",
    "\n",
    "#Pastikan tidak ada NaN setelah scaling\n",
    "print(\"Apakah ada NaN setelah scaling?\", np.isnan(X_train_scaled).sum(), np.isnan(X_test_scaled).sum())\n",
    "\n",
    "# Gunakan SMOTE setelah data bebas dari NaN\n",
    "smote = SMOTE(random_state=42)\n",
    "X_train_res, y_train_res = smote.fit_resample(X_train_scaled, y_train)\n",
    "\n",
    "\n"
   ]
  },
  {
   "cell_type": "code",
   "execution_count": 4,
   "metadata": {},
   "outputs": [
    {
     "name": "stdout",
     "output_type": "stream",
     "text": [
      "\n",
      "Random Forest best parameters: {'max_depth': 20, 'min_samples_split': 5, 'n_estimators': 200}\n",
      "Random Forest best CV ROC AUC: 0.900654965412374\n"
     ]
    },
    {
     "name": "stderr",
     "output_type": "stream",
     "text": [
      "c:\\Users\\ARFAN\\anaconda3\\Lib\\site-packages\\xgboost\\core.py:158: UserWarning: [11:30:42] WARNING: C:\\buildkite-agent\\builds\\buildkite-windows-cpu-autoscaling-group-i-08cbc0333d8d4aae1-1\\xgboost\\xgboost-ci-windows\\src\\learner.cc:740: \n",
      "Parameters: { \"use_label_encoder\" } are not used.\n",
      "\n",
      "  warnings.warn(smsg, UserWarning)\n"
     ]
    },
    {
     "name": "stdout",
     "output_type": "stream",
     "text": [
      "\n",
      "XGBoost best parameters: {'learning_rate': 0.1, 'max_depth': 6, 'n_estimators': 200}\n",
      "XGBoost best CV ROC AUC: 0.8983099749251255\n",
      "[LightGBM] [Info] Number of positive: 42194, number of negative: 42194\n",
      "[LightGBM] [Info] Auto-choosing row-wise multi-threading, the overhead of testing was 0.004729 seconds.\n",
      "You can set `force_row_wise=true` to remove the overhead.\n",
      "And if memory is not enough, you can set `force_col_wise=true`.\n",
      "[LightGBM] [Info] Total Bins 781\n",
      "[LightGBM] [Info] Number of data points in the train set: 84388, number of used features: 14\n",
      "[LightGBM] [Info] [binary:BoostFromScore]: pavg=0.500000 -> initscore=0.000000\n",
      "\n",
      "LightGBM best parameters: {'learning_rate': 0.1, 'max_depth': -1, 'n_estimators': 200}\n",
      "LightGBM best CV ROC AUC: 0.9009549251145478\n"
     ]
    }
   ],
   "source": [
    "# 3. Hyperparameter Tuning dan Cross Validation untuk 3 Model\n",
    "\n",
    "models = {}\n",
    "\n",
    "#RANDOM FOREST\n",
    "rf = RandomForestClassifier(random_state=42, class_weight='balanced')\n",
    "param_grid_rf = {\n",
    "    'n_estimators': [100, 200],\n",
    "    'max_depth': [None, 10, 20],\n",
    "    'min_samples_split': [2, 5]\n",
    "}\n",
    "grid_rf = GridSearchCV(rf, param_grid_rf, cv=5, scoring='roc_auc', n_jobs=-1)\n",
    "grid_rf.fit(X_train_res, y_train_res)\n",
    "print(\"\\nRandom Forest best parameters:\", grid_rf.best_params_)\n",
    "print(\"Random Forest best CV ROC AUC:\", grid_rf.best_score_)\n",
    "models['RandomForest'] = grid_rf.best_estimator_\n",
    "\n",
    "#XGBOOST\n",
    "xgb_model = xgb.XGBClassifier(random_state=42, use_label_encoder=False, eval_metric='logloss')\n",
    "param_grid_xgb = {\n",
    "    'n_estimators': [100, 200],\n",
    "    'max_depth': [3, 6],\n",
    "    'learning_rate': [0.1, 0.01]\n",
    "}\n",
    "grid_xgb = GridSearchCV(xgb_model, param_grid_xgb, cv=5, scoring='roc_auc', n_jobs=-1)\n",
    "grid_xgb.fit(X_train_res, y_train_res)\n",
    "print(\"\\nXGBoost best parameters:\", grid_xgb.best_params_)\n",
    "print(\"XGBoost best CV ROC AUC:\", grid_xgb.best_score_)\n",
    "models['XGBoost'] = grid_xgb.best_estimator_\n",
    "\n",
    "#LIGHTGBM\n",
    "lgb_model = lgb.LGBMClassifier(random_state=42)\n",
    "param_grid_lgb = {\n",
    "    'n_estimators': [100, 200],\n",
    "    'max_depth': [ -1, 10, 20],\n",
    "    'learning_rate': [0.1, 0.01]\n",
    "}\n",
    "grid_lgb = GridSearchCV(lgb_model, param_grid_lgb, cv=5, scoring='roc_auc', n_jobs=-1)\n",
    "grid_lgb.fit(X_train_res, y_train_res)\n",
    "print(\"\\nLightGBM best parameters:\", grid_lgb.best_params_)\n",
    "print(\"LightGBM best CV ROC AUC:\", grid_lgb.best_score_)\n",
    "models['LightGBM'] = grid_lgb.best_estimator_\n"
   ]
  },
  {
   "cell_type": "code",
   "execution_count": 5,
   "metadata": {},
   "outputs": [
    {
     "name": "stdout",
     "output_type": "stream",
     "text": [
      "RandomForest Cross Validation ROC AUC: 0.900654965412374\n"
     ]
    },
    {
     "name": "stderr",
     "output_type": "stream",
     "text": [
      "c:\\Users\\ARFAN\\anaconda3\\Lib\\site-packages\\xgboost\\core.py:158: UserWarning: [11:32:09] WARNING: C:\\buildkite-agent\\builds\\buildkite-windows-cpu-autoscaling-group-i-08cbc0333d8d4aae1-1\\xgboost\\xgboost-ci-windows\\src\\learner.cc:740: \n",
      "Parameters: { \"use_label_encoder\" } are not used.\n",
      "\n",
      "  warnings.warn(smsg, UserWarning)\n",
      "c:\\Users\\ARFAN\\anaconda3\\Lib\\site-packages\\xgboost\\core.py:158: UserWarning: [11:32:10] WARNING: C:\\buildkite-agent\\builds\\buildkite-windows-cpu-autoscaling-group-i-08cbc0333d8d4aae1-1\\xgboost\\xgboost-ci-windows\\src\\learner.cc:740: \n",
      "Parameters: { \"use_label_encoder\" } are not used.\n",
      "\n",
      "  warnings.warn(smsg, UserWarning)\n",
      "c:\\Users\\ARFAN\\anaconda3\\Lib\\site-packages\\xgboost\\core.py:158: UserWarning: [11:32:10] WARNING: C:\\buildkite-agent\\builds\\buildkite-windows-cpu-autoscaling-group-i-08cbc0333d8d4aae1-1\\xgboost\\xgboost-ci-windows\\src\\learner.cc:740: \n",
      "Parameters: { \"use_label_encoder\" } are not used.\n",
      "\n",
      "  warnings.warn(smsg, UserWarning)\n",
      "c:\\Users\\ARFAN\\anaconda3\\Lib\\site-packages\\xgboost\\core.py:158: UserWarning: [11:32:11] WARNING: C:\\buildkite-agent\\builds\\buildkite-windows-cpu-autoscaling-group-i-08cbc0333d8d4aae1-1\\xgboost\\xgboost-ci-windows\\src\\learner.cc:740: \n",
      "Parameters: { \"use_label_encoder\" } are not used.\n",
      "\n",
      "  warnings.warn(smsg, UserWarning)\n",
      "c:\\Users\\ARFAN\\anaconda3\\Lib\\site-packages\\xgboost\\core.py:158: UserWarning: [11:32:12] WARNING: C:\\buildkite-agent\\builds\\buildkite-windows-cpu-autoscaling-group-i-08cbc0333d8d4aae1-1\\xgboost\\xgboost-ci-windows\\src\\learner.cc:740: \n",
      "Parameters: { \"use_label_encoder\" } are not used.\n",
      "\n",
      "  warnings.warn(smsg, UserWarning)\n"
     ]
    },
    {
     "name": "stdout",
     "output_type": "stream",
     "text": [
      "XGBoost Cross Validation ROC AUC: 0.8983099749251255\n",
      "[LightGBM] [Info] Number of positive: 33755, number of negative: 33755\n",
      "[LightGBM] [Info] Auto-choosing row-wise multi-threading, the overhead of testing was 0.004418 seconds.\n",
      "You can set `force_row_wise=true` to remove the overhead.\n",
      "And if memory is not enough, you can set `force_col_wise=true`.\n",
      "[LightGBM] [Info] Total Bins 792\n",
      "[LightGBM] [Info] Number of data points in the train set: 67510, number of used features: 14\n",
      "[LightGBM] [Info] [binary:BoostFromScore]: pavg=0.500000 -> initscore=0.000000\n",
      "[LightGBM] [Info] Number of positive: 33755, number of negative: 33755\n",
      "[LightGBM] [Info] Auto-choosing row-wise multi-threading, the overhead of testing was 0.003860 seconds.\n",
      "You can set `force_row_wise=true` to remove the overhead.\n",
      "And if memory is not enough, you can set `force_col_wise=true`.\n",
      "[LightGBM] [Info] Total Bins 793\n",
      "[LightGBM] [Info] Number of data points in the train set: 67510, number of used features: 14\n",
      "[LightGBM] [Info] [binary:BoostFromScore]: pavg=0.500000 -> initscore=0.000000\n",
      "[LightGBM] [Info] Number of positive: 33755, number of negative: 33755\n",
      "[LightGBM] [Info] Auto-choosing row-wise multi-threading, the overhead of testing was 0.004045 seconds.\n",
      "You can set `force_row_wise=true` to remove the overhead.\n",
      "And if memory is not enough, you can set `force_col_wise=true`.\n",
      "[LightGBM] [Info] Total Bins 788\n",
      "[LightGBM] [Info] Number of data points in the train set: 67510, number of used features: 14\n",
      "[LightGBM] [Info] [binary:BoostFromScore]: pavg=0.500000 -> initscore=0.000000\n",
      "[LightGBM] [Info] Number of positive: 33756, number of negative: 33755\n",
      "[LightGBM] [Info] Auto-choosing row-wise multi-threading, the overhead of testing was 0.003382 seconds.\n",
      "You can set `force_row_wise=true` to remove the overhead.\n",
      "And if memory is not enough, you can set `force_col_wise=true`.\n",
      "[LightGBM] [Info] Total Bins 487\n",
      "[LightGBM] [Info] Number of data points in the train set: 67511, number of used features: 14\n",
      "[LightGBM] [Info] [binary:BoostFromScore]: pavg=0.500007 -> initscore=0.000030\n",
      "[LightGBM] [Info] Start training from score 0.000030\n",
      "[LightGBM] [Info] Number of positive: 33755, number of negative: 33756\n",
      "[LightGBM] [Info] Auto-choosing row-wise multi-threading, the overhead of testing was 0.003542 seconds.\n",
      "You can set `force_row_wise=true` to remove the overhead.\n",
      "And if memory is not enough, you can set `force_col_wise=true`.\n",
      "[LightGBM] [Info] Total Bins 476\n",
      "[LightGBM] [Info] Number of data points in the train set: 67511, number of used features: 14\n",
      "[LightGBM] [Info] [binary:BoostFromScore]: pavg=0.499993 -> initscore=-0.000030\n",
      "[LightGBM] [Info] Start training from score -0.000030\n",
      "LightGBM Cross Validation ROC AUC: 0.9009549251145478\n",
      "\n",
      "Model terbaik berdasarkan cross validation ROC AUC: LightGBM\n",
      "[LightGBM] [Info] Number of positive: 42194, number of negative: 42194\n",
      "[LightGBM] [Info] Auto-choosing row-wise multi-threading, the overhead of testing was 0.005997 seconds.\n",
      "You can set `force_row_wise=true` to remove the overhead.\n",
      "And if memory is not enough, you can set `force_col_wise=true`.\n",
      "[LightGBM] [Info] Total Bins 781\n",
      "[LightGBM] [Info] Number of data points in the train set: 84388, number of used features: 14\n",
      "[LightGBM] [Info] [binary:BoostFromScore]: pavg=0.500000 -> initscore=0.000000\n"
     ]
    },
    {
     "data": {
      "text/plain": [
       "['best_hotel_booking_model.pkl']"
      ]
     },
     "execution_count": 5,
     "metadata": {},
     "output_type": "execute_result"
    }
   ],
   "source": [
    "# 4. Evaluasi dan Pemilihan Model Terbaik\n",
    "cv_scores = {}\n",
    "for name, model in models.items():\n",
    "    scores = cross_val_score(model, X_train_res, y_train_res, cv=5, scoring='roc_auc')\n",
    "    cv_scores[name] = scores.mean()\n",
    "    print(name, \"Cross Validation ROC AUC:\", scores.mean())\n",
    "\n",
    "best_model_name = max(cv_scores, key=cv_scores.get)\n",
    "print(\"\\nModel terbaik berdasarkan cross validation ROC AUC:\", best_model_name)\n",
    "best_model = models[best_model_name]\n",
    "\n",
    "# Latih model terbaik menggunakan seluruh data training yang sudah di-resample\n",
    "best_model.fit(X_train_res, y_train_res)\n",
    "\n",
    "#Simpan Model ke File Menggunakan Pickle\n",
    "joblib.dump(best_model, \"best_hotel_booking_model.pkl\")\n",
    "\n",
    "\n"
   ]
  },
  {
   "cell_type": "code",
   "execution_count": 6,
   "metadata": {},
   "outputs": [
    {
     "name": "stdout",
     "output_type": "stream",
     "text": [
      "\n",
      "Evaluasi dengan threshold default (0.5):\n",
      "Accuracy: 0.7949147472330242\n",
      "Classification Report:\n",
      "               precision    recall  f1-score   support\n",
      "\n",
      "           0       0.87      0.79      0.83     10601\n",
      "           1       0.69      0.80      0.74      6114\n",
      "\n",
      "    accuracy                           0.79     16715\n",
      "   macro avg       0.78      0.80      0.79     16715\n",
      "weighted avg       0.81      0.79      0.80     16715\n",
      "\n",
      "Confusion Matrix:\n",
      " [[8394 2207]\n",
      " [1221 4893]]\n",
      "ROC AUC: 0.8943265546973013\n"
     ]
    },
    {
     "name": "stderr",
     "output_type": "stream",
     "text": [
      "c:\\Users\\ARFAN\\anaconda3\\Lib\\site-packages\\sklearn\\metrics\\_classification.py:1509: UndefinedMetricWarning: Precision is ill-defined and being set to 0.0 due to no predicted samples. Use `zero_division` parameter to control this behavior.\n",
      "  _warn_prf(average, modifier, f\"{metric.capitalize()} is\", len(result))\n"
     ]
    },
    {
     "name": "stdout",
     "output_type": "stream",
     "text": [
      "\n",
      "Tidak ditemukan threshold yang memenuhi seluruh syarat minimal precision dan recall 80%.\n",
      "Threshold default (0.5) akan digunakan.\n",
      "\n",
      "Evaluasi Model Terbaik pada Test Set (Threshold = 0.5):\n",
      "Accuracy: 0.7949147472330242\n",
      "Classification Report:\n",
      "               precision    recall  f1-score   support\n",
      "\n",
      "           0       0.87      0.79      0.83     10601\n",
      "           1       0.69      0.80      0.74      6114\n",
      "\n",
      "    accuracy                           0.79     16715\n",
      "   macro avg       0.78      0.80      0.79     16715\n",
      "weighted avg       0.81      0.79      0.80     16715\n",
      "\n",
      "Confusion Matrix:\n",
      " [[8394 2207]\n",
      " [1221 4893]]\n",
      "ROC AUC: 0.8943265546973013\n"
     ]
    }
   ],
   "source": [
    "# 5. Evaluasi Model Terbaik pada Test Set & Pencarian Threshold Optimal\n",
    "# Pertama, evaluasi dengan threshold default 0.5\n",
    "y_proba = best_model.predict_proba(X_test_scaled)[:, 1]\n",
    "y_pred_default = (y_proba >= 0.5).astype(int)\n",
    "\n",
    "print(\"\\nEvaluasi dengan threshold default (0.5):\")\n",
    "print(\"Accuracy:\", accuracy_score(y_test, y_pred_default))\n",
    "print(\"Classification Report:\\n\", classification_report(y_test, y_pred_default))\n",
    "print(\"Confusion Matrix:\\n\", confusion_matrix(y_test, y_pred_default))\n",
    "print(\"ROC AUC:\", roc_auc_score(y_test, y_proba))\n",
    "\n",
    "# Cari threshold terbaik untuk mencapai precision dan recall minimal 80% untuk kedua kelas (0 dan 1), jika memungkinkan.\n",
    "best_threshold = 0.5\n",
    "found = False\n",
    "for thresh in np.arange(0.0, 1.0, 0.01):\n",
    "    y_pred_thresh = (y_proba >= thresh).astype(int)\n",
    "    precision0 = precision_score(y_test, y_pred_thresh, pos_label=0)\n",
    "    recall0 = recall_score(y_test, y_pred_thresh, pos_label=0)\n",
    "    precision1 = precision_score(y_test, y_pred_thresh, pos_label=1)\n",
    "    recall1 = recall_score(y_test, y_pred_thresh, pos_label=1)\n",
    "    if precision0 >= 0.80 and recall0 >= 0.80 and precision1 >= 0.80 and recall1 >= 0.80:\n",
    "        best_threshold = thresh\n",
    "        found = True\n",
    "        print(\"\\nDitemukan threshold:\", thresh)\n",
    "        print(\"Precision kelas 0: {:.2f}, Recall kelas 0: {:.2f}\".format(precision0, recall0))\n",
    "        print(\"Precision kelas 1: {:.2f}, Recall kelas 1: {:.2f}\".format(precision1, recall1))\n",
    "        break\n",
    "\n",
    "if not found:\n",
    "    print(\"\\nTidak ditemukan threshold yang memenuhi seluruh syarat minimal precision dan recall 80%.\")\n",
    "    print(\"Threshold default (0.5) akan digunakan.\")\n",
    "\n",
    "# Evaluasi akhir dengan threshold terbaik atau threshold default jika tidak ditemukan threshold optimal\n",
    "y_pred_final = (y_proba >= best_threshold).astype(int)\n",
    "\n",
    "print(\"\\nEvaluasi Model Terbaik pada Test Set (Threshold = {}):\".format(best_threshold))\n",
    "print(\"Accuracy:\", accuracy_score(y_test, y_pred_final))\n",
    "print(\"Classification Report:\\n\", classification_report(y_test, y_pred_final))\n",
    "print(\"Confusion Matrix:\\n\", confusion_matrix(y_test, y_pred_final))\n",
    "print(\"ROC AUC:\", roc_auc_score(y_test, y_proba))\n",
    "\n",
    "\n"
   ]
  }
 ],
 "metadata": {
  "kernelspec": {
   "display_name": "base",
   "language": "python",
   "name": "python3"
  },
  "language_info": {
   "codemirror_mode": {
    "name": "ipython",
    "version": 3
   },
   "file_extension": ".py",
   "mimetype": "text/x-python",
   "name": "python",
   "nbconvert_exporter": "python",
   "pygments_lexer": "ipython3",
   "version": "3.12.4"
  }
 },
 "nbformat": 4,
 "nbformat_minor": 2
}
